{
 "cells": [
  {
   "cell_type": "code",
   "execution_count": 135,
   "metadata": {},
   "outputs": [],
   "source": [
    "import numpy as np\n",
    "import networkx as nx\n",
    "import sympy as sp\n",
    "import numpy as np\n",
    "import networkx as nx\n",
    "from IPython.display import display, Math\n",
    "import sympy as sp"
   ]
  },
  {
   "cell_type": "code",
   "execution_count": 136,
   "metadata": {},
   "outputs": [],
   "source": [
    "theta = np.random.uniform(0,0.1)  \n",
    "total_demand = np.random.uniform(100,1000)\n",
    "num_nodes = np.random.randint(5, 10)\n",
    "graph_edge_prob = np.random.uniform(0, 0.5)"
   ]
  },
  {
   "cell_type": "code",
   "execution_count": 137,
   "metadata": {},
   "outputs": [],
   "source": [
    "def get_link_flows(path_flows, paths_matrix):\n",
    "    x = paths_matrix.T.dot(path_flows)\n",
    "    print(\"Link Flows:\", x)\n",
    "    return x"
   ]
  },
  {
   "cell_type": "code",
   "execution_count": 138,
   "metadata": {},
   "outputs": [],
   "source": [
    "def get_link_costs(link_flow):\n",
    "    ta = 0.0001 * 10*link_flow**2 + 4\n",
    "    print(\"Link Costs:\", ta)\n",
    "    return ta"
   ]
  },
  {
   "cell_type": "code",
   "execution_count": 139,
   "metadata": {},
   "outputs": [],
   "source": [
    "def get_link_cost_derivatives(link_flow):\n",
    "    ta_prime = 0.0001 * 20*link_flow\n",
    "    print(\"Link Cost Derivatives:\", ta_prime)\n",
    "    return ta_prime"
   ]
  },
  {
   "cell_type": "code",
   "execution_count": 140,
   "metadata": {},
   "outputs": [],
   "source": [
    "def get_path_costs(link_flows, paths_matrix):\n",
    "    x = link_flows\n",
    "    ta = get_link_costs(x)\n",
    "    path_costs = paths_matrix.dot(ta)\n",
    "    print(\"Path Costs:\", path_costs)\n",
    "    return path_costs"
   ]
  },
  {
   "cell_type": "code",
   "execution_count": 141,
   "metadata": {},
   "outputs": [],
   "source": [
    "def get_probabilities(path_costs, theta):\n",
    "    c = path_costs\n",
    "    p = np.exp(-theta*c) / np.sum(np.exp(-theta*c))\n",
    "    print(\"Probabilities:\", p)\n",
    "    return p"
   ]
  },
  {
   "cell_type": "code",
   "execution_count": 142,
   "metadata": {},
   "outputs": [],
   "source": [
    "def H_prime(num_paths, dem):\n",
    "    size = num_paths\n",
    "    return np.diag(np.full(size, dem))\n"
   ]
  },
  {
   "cell_type": "code",
   "execution_count": 143,
   "metadata": {},
   "outputs": [],
   "source": [
    "def P_prime(num_paths, path_costs, theta):\n",
    "    n = num_paths\n",
    "    p = get_probabilities(path_costs, theta)\n",
    "    P_prime_matrix = np.zeros((n, n))\n",
    "    for i in range(n):\n",
    "        for j in range(n):\n",
    "            if i == j:\n",
    "                P_prime_matrix[i, j] = -theta * p[i] * (1 - p[i])\n",
    "            else:\n",
    "                P_prime_matrix[i, j] = theta * p[i] * p[j]\n",
    "    return P_prime_matrix"
   ]
  },
  {
   "cell_type": "code",
   "execution_count": 144,
   "metadata": {},
   "outputs": [],
   "source": [
    "def C_prime(all_paths, all_links, link_flows):\n",
    "    num_paths = len(all_paths)\n",
    "    link_cost_derivatives = get_link_cost_derivatives(link_flows)\n",
    "    \n",
    "    C_prime_matrix = np.zeros((num_paths, num_paths))\n",
    "\n",
    "    for i in range(num_paths):\n",
    "        for j in range(num_paths):\n",
    "            links_i = set(zip(all_paths[i][:-1], all_paths[i][1:]))\n",
    "            links_j = set(zip(all_paths[j][:-1], all_paths[j][1:]))\n",
    "\n",
    "            # Find the common links between paths i and j\n",
    "            common_links = links_i & links_j\n",
    "\n",
    "            # Calculate the sum of link cost derivatives for the common links\n",
    "            for link in common_links:\n",
    "                if link in all_links:\n",
    "                    link_index = all_links.index(link)\n",
    "                    C_prime_matrix[i, j] += link_cost_derivatives[link_index]\n",
    "\n",
    "    return C_prime_matrix\n"
   ]
  },
  {
   "cell_type": "code",
   "execution_count": 145,
   "metadata": {},
   "outputs": [
    {
     "name": "stdout",
     "output_type": "stream",
     "text": [
      "Number of paths: 6\n",
      "Number of links: 15\n",
      "Paths: [[5, 0], [5, 2, 0], [5, 2, 1, 0], [5, 6, 3, 0], [5, 6, 3, 2, 0], [5, 6, 3, 2, 1, 0]]\n"
     ]
    }
   ],
   "source": [
    "G = nx.gnp_random_graph(num_nodes, graph_edge_prob, directed=True)\n",
    "origin = np.random.randint(0, num_nodes)\n",
    "destination = np.random.randint(0, num_nodes)\n",
    "while origin == destination:\n",
    "    origin = np.random.randint(0, num_nodes)\n",
    "    destination = np.random.randint(0, num_nodes)\n",
    "    print(\"Origin and destination are the same. New origin and destination have been selected.\")\n",
    "all_paths = list(nx.all_simple_paths(G, source=origin, target=destination))\n",
    "num_paths = len(all_paths)\n",
    "num_links = G.number_of_edges()\n",
    "print(f\"Number of paths: {num_paths}\")\n",
    "print(f\"Number of links: {num_links}\")\n",
    "print(f\"Paths: {all_paths}\")\n",
    "all_links = list(G.edges())\n",
    "paths_matrix = np.zeros((num_paths, num_links), dtype=int)\n",
    "for path_index, path in enumerate(all_paths):\n",
    "    path_edges = list(zip(path[:-1], path[1:]))\n",
    "    for edge in path_edges:\n",
    "        if edge in all_links:\n",
    "            link_index = all_links.index(edge)\n",
    "            paths_matrix[path_index, link_index] = 1\n",
    "# print(\"\\n Path Matrix:\", paths_matrix)"
   ]
  },
  {
   "cell_type": "code",
   "execution_count": 146,
   "metadata": {},
   "outputs": [
    {
     "name": "stdout",
     "output_type": "stream",
     "text": [
      "\n",
      " Path Flows: [ 46.16662224 223.32504264 152.41053634  21.87928803 210.12280581\n",
      "  97.04656569]\n",
      "Link Flows: [  0.           0.         249.45710202 433.44784844 249.45710202\n",
      "  21.87928803 307.16937149   0.           0.           0.\n",
      "   0.          46.16662224 375.73557898 329.04865952 329.04865952]\n",
      "Link Costs: [  4.           4.          66.22884575 191.87703732  66.22884575\n",
      "   4.47870324  98.35302278   4.           4.           4.\n",
      "   4.           6.13135701 145.17722531 112.27302033 112.27302033]\n",
      "Path Costs: [  6.13135701 337.05426263 277.63491681 229.02474391 514.77610077\n",
      " 455.35675495]\n"
     ]
    }
   ],
   "source": [
    "# These are z\n",
    "path_flows = np.random.rand(num_paths)\n",
    "path_flows = path_flows / path_flows.sum() * total_demand\n",
    "print(\"\\n Path Flows:\", path_flows)\n",
    "link_flows = get_link_flows(path_flows, paths_matrix)\n",
    "path_costs = get_path_costs(link_flows, paths_matrix)\n"
   ]
  },
  {
   "cell_type": "code",
   "execution_count": 147,
   "metadata": {},
   "outputs": [
    {
     "data": {
      "text/plain": [
       "(1, array([0., 1., 0., 0., 0., 0.]))"
      ]
     },
     "execution_count": 147,
     "metadata": {},
     "output_type": "execute_result"
    }
   ],
   "source": [
    "# a unit random vector of size n \n",
    "a = np.zeros(num_paths)\n",
    "i = np.random.randint(0,num_paths-1)\n",
    "a[i] = 1    \n",
    "i, a"
   ]
  },
  {
   "cell_type": "code",
   "execution_count": 148,
   "metadata": {},
   "outputs": [],
   "source": [
    "H_prime_matrix = H_prime(num_paths, total_demand)\n",
    "# H_prime_matrix"
   ]
  },
  {
   "cell_type": "code",
   "execution_count": 149,
   "metadata": {},
   "outputs": [
    {
     "name": "stdout",
     "output_type": "stream",
     "text": [
      "Probabilities: [9.99996997e-01 5.77111413e-09 1.74011715e-07 2.82351079e-06\n",
      " 2.17096360e-13 6.54593013e-12]\n"
     ]
    }
   ],
   "source": [
    "P_prime_matrix = P_prime(num_paths, path_costs, theta)\n",
    "# P_prime_matrix"
   ]
  },
  {
   "cell_type": "code",
   "execution_count": 150,
   "metadata": {},
   "outputs": [
    {
     "name": "stdout",
     "output_type": "stream",
     "text": [
      "Link Cost Derivatives: [0.         0.         0.4989142  0.8668957  0.4989142  0.04375858\n",
      " 0.61433874 0.         0.         0.         0.         0.09233324\n",
      " 0.75147116 0.65809732 0.65809732]\n"
     ]
    }
   ],
   "source": [
    "C_prime_matrix = C_prime(all_paths, all_links, link_flows)\n",
    "# C_prime_matrix"
   ]
  },
  {
   "cell_type": "code",
   "execution_count": 151,
   "metadata": {},
   "outputs": [],
   "source": [
    "# define h-h^ as a random vector of size n\n",
    "h = np.random.rand(num_paths)\n"
   ]
  },
  {
   "cell_type": "code",
   "execution_count": 152,
   "metadata": {},
   "outputs": [
    {
     "data": {
      "text/plain": [
       "-2.952666502002007e-07"
      ]
     },
     "execution_count": 152,
     "metadata": {},
     "output_type": "execute_result"
    }
   ],
   "source": [
    "expr = a @ H_prime_matrix @ P_prime_matrix @ C_prime_matrix @ (h)\n",
    "expr"
   ]
  },
  {
   "cell_type": "code",
   "execution_count": 153,
   "metadata": {},
   "outputs": [
    {
     "name": "stdout",
     "output_type": "stream",
     "text": [
      "Probabilities: [9.99996997e-01 5.77111413e-09 1.74011715e-07 2.82351079e-06\n",
      " 2.17096360e-13 6.54593013e-12]\n"
     ]
    },
    {
     "data": {
      "text/plain": [
       "-2.952666502002006e-07"
      ]
     },
     "execution_count": 153,
     "metadata": {},
     "output_type": "execute_result"
    }
   ],
   "source": [
    "p = get_probabilities(path_costs, theta)\n",
    "result =  total_demand * theta * p[i] * sum(p[k] * sum((C_prime_matrix[k][j] - C_prime_matrix[i][j]) * (h[j]) for j in range(num_paths)) for k in range(num_paths))\n",
    "result "
   ]
  },
  {
   "cell_type": "code",
   "execution_count": 167,
   "metadata": {},
   "outputs": [
    {
     "name": "stdout",
     "output_type": "stream",
     "text": [
      "\\sum_{k=1}^{n} \\left(- \\frac{e^{- c{\\left(k,t \\delta + h \\right)}} \\delta \\left. \\frac{d}{d \\xi_{2}} c{\\left(k,\\xi_{2} \\right)} \\right|_{\\substack{ \\xi_{2}=t \\delta + h }}}{\\sum_{i=1}^{n} e^{- c{\\left(i,t \\delta + h \\right)}}} - \\frac{e^{- c{\\left(k,t \\delta + h \\right)}} \\sum_{i=1}^{n} - e^{- c{\\left(i,t \\delta + h \\right)}} \\delta \\left. \\frac{d}{d \\xi_{2}} c{\\left(i,\\xi_{2} \\right)} \\right|_{\\substack{ \\xi_{2}=t \\delta + h }}}{\\left(\\sum_{i=1}^{n} e^{- c{\\left(i,t \\delta + h \\right)}}\\right)^{2}}\\right)\n"
     ]
    },
    {
     "data": {
      "text/latex": [
       "$\\displaystyle \\sum_{k=1}^{n} \\left(- \\frac{e^{- c{\\left(k,t \\delta + h \\right)}} \\delta \\left. \\frac{d}{d \\xi_{2}} c{\\left(k,\\xi_{2} \\right)} \\right|_{\\substack{ \\xi_{2}=t \\delta + h }}}{\\sum_{i=1}^{n} e^{- c{\\left(i,t \\delta + h \\right)}}} - \\frac{e^{- c{\\left(k,t \\delta + h \\right)}} \\sum_{i=1}^{n} - e^{- c{\\left(i,t \\delta + h \\right)}} \\delta \\left. \\frac{d}{d \\xi_{2}} c{\\left(i,\\xi_{2} \\right)} \\right|_{\\substack{ \\xi_{2}=t \\delta + h }}}{\\left(\\sum_{i=1}^{n} e^{- c{\\left(i,t \\delta + h \\right)}}\\right)^{2}}\\right)$"
      ],
      "text/plain": [
       "<IPython.core.display.Math object>"
      ]
     },
     "metadata": {},
     "output_type": "display_data"
    }
   ],
   "source": [
    "\n",
    "\n",
    "import sympy as sp\n",
    "\n",
    "t = sp.Symbol('t')\n",
    "delta = sp.IndexedBase('delta')\n",
    "h = sp.IndexedBase('h')\n",
    "h_hat = sp.IndexedBase('h_hat')\n",
    "k, i, j, n = sp.symbols('k i j n', integer=True)\n",
    "\n",
    "c = sp.Function('c')\n",
    "\n",
    "\n",
    "p_k = sp.exp(-c(k, h + delta * t)) / sp.Sum(sp.exp(-c(i, h + delta * t)), (i, 1, n))\n",
    "# inner_sum_k = sp.Sum(\n",
    "#     (sp.diff(c(k, h + delta * t), h[j]) - sp.diff(c(i, h + delta * t), h[j])) * (-delta[j]),\n",
    "#     (j, 1, n)\n",
    "# )\n",
    "# p_k = 1\n",
    "inner_sum_k = 1\n",
    "main_expr = sp.Sum(p_k * inner_sum_k, (k, 1, n))\n",
    "\n",
    "derivative_expr = sp.diff(main_expr, t)\n",
    "collected_expr = sp.collect(derivative_expr, delta)\n",
    "\n",
    "\n",
    "# Display the simplified derivative in LaTeX form\n",
    "latex_derivative = sp.latex(collected_expr)\n",
    "print(latex_derivative)\n",
    "display(Math(latex_derivative))\n",
    "\n"
   ]
  },
  {
   "cell_type": "code",
   "execution_count": 166,
   "metadata": {},
   "outputs": [
    {
     "name": "stdout",
     "output_type": "stream",
     "text": [
      "Evaluated Expression:\n",
      "Sum(-k*exp(-k*(delta + h))*delta/Sum(exp(-i*(delta + h)), (i, 1, n)) - exp(-k*(delta + h))*Sum(-i*exp(-i*(delta + h))*delta, (i, 1, n))/Sum(exp(-i*(delta + h)), (i, 1, n))**2, (k, 1, n))\n"
     ]
    }
   ],
   "source": [
    "\n",
    "h_values = np.random.rand(num_paths)\n",
    "h_hat_values = np.random.rand(num_paths)\n",
    "delta_values = h_values - h_hat_values\n",
    "n = num_paths\n",
    "\n",
    "subs_dict = {\n",
    "    delta[j]: delta_values[j-1] for j in range(1, num_paths+1)\n",
    "}\n",
    "\n",
    "subs_dict.update({\n",
    "    h[j]: h_values[j-1] for j in range(1, num_paths+1)\n",
    "})\n",
    "\n",
    "subs_dict.update({\n",
    "    h_hat[j]: h_hat_values[j-1] for j in range(1, num_paths+1)\n",
    "})\n",
    "subs_dict[n] = num_paths\n",
    "subs_dict[t] = 1\n",
    "\n",
    "evaluated_expr = collected_expr.subs(subs_dict).evalf()\n",
    "\n",
    "print(\"Evaluated Expression:\")\n",
    "print(evaluated_expr)"
   ]
  },
  {
   "cell_type": "code",
   "execution_count": null,
   "metadata": {},
   "outputs": [],
   "source": []
  },
  {
   "cell_type": "code",
   "execution_count": null,
   "metadata": {},
   "outputs": [],
   "source": []
  }
 ],
 "metadata": {
  "kernelspec": {
   "display_name": "Python 3",
   "language": "python",
   "name": "python3"
  },
  "language_info": {
   "codemirror_mode": {
    "name": "ipython",
    "version": 3
   },
   "file_extension": ".py",
   "mimetype": "text/x-python",
   "name": "python",
   "nbconvert_exporter": "python",
   "pygments_lexer": "ipython3",
   "version": "3.9.6"
  }
 },
 "nbformat": 4,
 "nbformat_minor": 2
}
