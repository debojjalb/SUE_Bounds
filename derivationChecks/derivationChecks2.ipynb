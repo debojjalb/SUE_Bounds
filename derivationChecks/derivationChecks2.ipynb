{
 "cells": [
  {
   "cell_type": "code",
   "execution_count": 12,
   "metadata": {},
   "outputs": [],
   "source": [
    "import numpy as np\n",
    "import networkx as nx\n",
    "from IPython.display import display, Math\n",
    "import sympy as sp"
   ]
  },
  {
   "cell_type": "code",
   "execution_count": 13,
   "metadata": {},
   "outputs": [
    {
     "name": "stdout",
     "output_type": "stream",
     "text": [
      "\\sum_{k=1}^{n} \\left(- \\frac{e^{- c{\\left(k,t \\delta + h \\right)}} \\delta \\left. \\frac{d}{d \\xi_{2}} c{\\left(k,\\xi_{2} \\right)} \\right|_{\\substack{ \\xi_{2}=t \\delta + h }} \\sum_{j=1}^{n} - \\left(- \\frac{d}{d {h}_{j}} h \\left. \\frac{d}{d \\xi_{2}} c{\\left(i,\\xi_{2} \\right)} \\right|_{\\substack{ \\xi_{2}=t \\delta + h }} + \\frac{d}{d {h}_{j}} h \\left. \\frac{d}{d \\xi_{2}} c{\\left(k,\\xi_{2} \\right)} \\right|_{\\substack{ \\xi_{2}=t \\delta + h }}\\right) {\\delta}_{j}}{\\sum_{i=1}^{n} e^{- c{\\left(i,t \\delta + h \\right)}}} - \\frac{e^{- c{\\left(k,t \\delta + h \\right)}} \\left(\\sum_{j=1}^{n} - \\left(- \\frac{d}{d {h}_{j}} h \\left. \\frac{d}{d \\xi_{2}} c{\\left(i,\\xi_{2} \\right)} \\right|_{\\substack{ \\xi_{2}=t \\delta + h }} + \\frac{d}{d {h}_{j}} h \\left. \\frac{d}{d \\xi_{2}} c{\\left(k,\\xi_{2} \\right)} \\right|_{\\substack{ \\xi_{2}=t \\delta + h }}\\right) {\\delta}_{j}\\right) \\sum_{i=1}^{n} - e^{- c{\\left(i,t \\delta + h \\right)}} \\delta \\left. \\frac{d}{d \\xi_{2}} c{\\left(i,\\xi_{2} \\right)} \\right|_{\\substack{ \\xi_{2}=t \\delta + h }}}{\\left(\\sum_{i=1}^{n} e^{- c{\\left(i,t \\delta + h \\right)}}\\right)^{2}} + \\frac{e^{- c{\\left(k,t \\delta + h \\right)}} \\sum_{j=1}^{n} - \\left(- \\frac{d}{d {h}_{j}} h \\delta \\left. \\frac{d^{2}}{d \\xi_{2}^{2}} c{\\left(i,\\xi_{2} \\right)} \\right|_{\\substack{ \\xi_{2}=t \\delta + h }} + \\frac{d}{d {h}_{j}} h \\delta \\left. \\frac{d^{2}}{d \\xi_{2}^{2}} c{\\left(k,\\xi_{2} \\right)} \\right|_{\\substack{ \\xi_{2}=t \\delta + h }}\\right) {\\delta}_{j}}{\\sum_{i=1}^{n} e^{- c{\\left(i,t \\delta + h \\right)}}}\\right)\n"
     ]
    },
    {
     "data": {
      "text/latex": [
       "$\\displaystyle \\sum_{k=1}^{n} \\left(- \\frac{e^{- c{\\left(k,t \\delta + h \\right)}} \\delta \\left. \\frac{d}{d \\xi_{2}} c{\\left(k,\\xi_{2} \\right)} \\right|_{\\substack{ \\xi_{2}=t \\delta + h }} \\sum_{j=1}^{n} - \\left(- \\frac{d}{d {h}_{j}} h \\left. \\frac{d}{d \\xi_{2}} c{\\left(i,\\xi_{2} \\right)} \\right|_{\\substack{ \\xi_{2}=t \\delta + h }} + \\frac{d}{d {h}_{j}} h \\left. \\frac{d}{d \\xi_{2}} c{\\left(k,\\xi_{2} \\right)} \\right|_{\\substack{ \\xi_{2}=t \\delta + h }}\\right) {\\delta}_{j}}{\\sum_{i=1}^{n} e^{- c{\\left(i,t \\delta + h \\right)}}} - \\frac{e^{- c{\\left(k,t \\delta + h \\right)}} \\left(\\sum_{j=1}^{n} - \\left(- \\frac{d}{d {h}_{j}} h \\left. \\frac{d}{d \\xi_{2}} c{\\left(i,\\xi_{2} \\right)} \\right|_{\\substack{ \\xi_{2}=t \\delta + h }} + \\frac{d}{d {h}_{j}} h \\left. \\frac{d}{d \\xi_{2}} c{\\left(k,\\xi_{2} \\right)} \\right|_{\\substack{ \\xi_{2}=t \\delta + h }}\\right) {\\delta}_{j}\\right) \\sum_{i=1}^{n} - e^{- c{\\left(i,t \\delta + h \\right)}} \\delta \\left. \\frac{d}{d \\xi_{2}} c{\\left(i,\\xi_{2} \\right)} \\right|_{\\substack{ \\xi_{2}=t \\delta + h }}}{\\left(\\sum_{i=1}^{n} e^{- c{\\left(i,t \\delta + h \\right)}}\\right)^{2}} + \\frac{e^{- c{\\left(k,t \\delta + h \\right)}} \\sum_{j=1}^{n} - \\left(- \\frac{d}{d {h}_{j}} h \\delta \\left. \\frac{d^{2}}{d \\xi_{2}^{2}} c{\\left(i,\\xi_{2} \\right)} \\right|_{\\substack{ \\xi_{2}=t \\delta + h }} + \\frac{d}{d {h}_{j}} h \\delta \\left. \\frac{d^{2}}{d \\xi_{2}^{2}} c{\\left(k,\\xi_{2} \\right)} \\right|_{\\substack{ \\xi_{2}=t \\delta + h }}\\right) {\\delta}_{j}}{\\sum_{i=1}^{n} e^{- c{\\left(i,t \\delta + h \\right)}}}\\right)$"
      ],
      "text/plain": [
       "<IPython.core.display.Math object>"
      ]
     },
     "metadata": {},
     "output_type": "display_data"
    }
   ],
   "source": [
    "import sympy as sp\n",
    "\n",
    "t = sp.Symbol('t')\n",
    "delta = sp.IndexedBase('delta')\n",
    "h = sp.IndexedBase('h')\n",
    "h_hat = sp.IndexedBase('h_hat')\n",
    "k, i, j, n = sp.symbols('k i j n', integer=True)\n",
    "c = sp.Function('c')\n",
    "\n",
    "p_k = sp.exp(-c(k, h + delta * t)) / sp.Sum(sp.exp(-c(i, h + delta * t)), (i, 1, n))\n",
    "inner_sum_k = sp.Sum(\n",
    "    (sp.diff(c(k, h + delta * t), h[j]) - sp.diff(c(i, h + delta * t), h[j])) * (-delta[j]),\n",
    "    (j, 1, n)\n",
    ")\n",
    "main_expr = sp.Sum(p_k * inner_sum_k, (k, 1, n))\n",
    "\n",
    "derivative_expr = sp.diff(main_expr, t)\n",
    "collected_expr = sp.collect(derivative_expr, delta)\n",
    "\n",
    "\n",
    "# Display the simplified derivative in LaTeX form\n",
    "latex_derivative = sp.latex(collected_expr)\n",
    "print(latex_derivative)\n",
    "display(Math(latex_derivative))\n"
   ]
  },
  {
   "cell_type": "code",
   "execution_count": null,
   "metadata": {},
   "outputs": [],
   "source": []
  }
 ],
 "metadata": {
  "kernelspec": {
   "display_name": "Python 3",
   "language": "python",
   "name": "python3"
  },
  "language_info": {
   "codemirror_mode": {
    "name": "ipython",
    "version": 3
   },
   "file_extension": ".py",
   "mimetype": "text/x-python",
   "name": "python",
   "nbconvert_exporter": "python",
   "pygments_lexer": "ipython3",
   "version": "3.9.6"
  }
 },
 "nbformat": 4,
 "nbformat_minor": 2
}
